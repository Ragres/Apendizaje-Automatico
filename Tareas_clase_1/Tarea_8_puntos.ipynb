{
 "cells": [
  {
   "cell_type": "code",
   "execution_count": 1,
   "metadata": {},
   "outputs": [],
   "source": [
    "'''Busco trabajar con el conjunto digits\n",
    "La razon de mi eleccion es que nunca he trabajado con un conjunto de imagenes ni modelo de reconocimiento entoces me gustaria saber como es la implementacion.\n",
    "Al finalizar el curso me gustaria entender no solo las bases matematicas de los modelos de aprendizaje automatico si no tambien su implementacion en python, especificamente con este modelo\n",
    "tengo de meta implementar un sistema de reconocimiento de numeros que a largo plazo pueda extrapolar para uso personal.\n",
    "'''\n"
   ]
  }
 ],
 "metadata": {
  "kernelspec": {
   "display_name": "base",
   "language": "python",
   "name": "python3"
  },
  "language_info": {
   "codemirror_mode": {
    "name": "ipython",
    "version": 3
   },
   "file_extension": ".py",
   "mimetype": "text/x-python",
   "name": "python",
   "nbconvert_exporter": "python",
   "pygments_lexer": "ipython3",
   "version": "3.11.7"
  }
 },
 "nbformat": 4,
 "nbformat_minor": 2
}
